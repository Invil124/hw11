{
 "cells": [
  {
   "cell_type": "code",
   "execution_count": 6,
   "id": "b14c9d87",
   "metadata": {},
   "outputs": [],
   "source": [
    "from keras.datasets import imdb\n",
    "from keras.utils import pad_sequences"
   ]
  },
  {
   "cell_type": "code",
   "execution_count": 7,
   "id": "8a8a391c",
   "metadata": {},
   "outputs": [],
   "source": [
    "max_features = 5000  \n",
    "max_len = 500  \n",
    "(x_train, y_train), (x_test, y_test) = imdb.load_data(num_words=max_features)"
   ]
  },
  {
   "cell_type": "code",
   "execution_count": 8,
   "id": "697906e0",
   "metadata": {},
   "outputs": [],
   "source": [
    "x_train = pad_sequences(x_train, maxlen=max_len)\n",
    "x_test = pad_sequences(x_test, maxlen=max_len)"
   ]
  },
  {
   "cell_type": "code",
   "execution_count": 9,
   "id": "dfc64f27",
   "metadata": {},
   "outputs": [],
   "source": [
    "from keras.models import Sequential\n",
    "from keras.layers import Embedding, SimpleRNN, Dense"
   ]
  },
  {
   "cell_type": "code",
   "execution_count": 11,
   "id": "940c0992",
   "metadata": {},
   "outputs": [],
   "source": [
    "model_rnn = Sequential()\n",
    "model_rnn.add(Embedding(max_features, 32))  \n",
    "model_rnn.add(SimpleRNN(32))  \n",
    "model_rnn.add(Dense(1, activation='sigmoid'))  "
   ]
  },
  {
   "cell_type": "code",
   "execution_count": 12,
   "id": "54470fd2",
   "metadata": {},
   "outputs": [
    {
     "name": "stdout",
     "output_type": "stream",
     "text": [
      "Epoch 1/10\n",
      "157/157 [==============================] - 15s 84ms/step - loss: 0.6266 - accuracy: 0.6302 - val_loss: 0.5292 - val_accuracy: 0.7540\n",
      "Epoch 2/10\n",
      "157/157 [==============================] - 13s 80ms/step - loss: 0.4096 - accuracy: 0.8253 - val_loss: 0.4072 - val_accuracy: 0.8228\n",
      "Epoch 3/10\n",
      "157/157 [==============================] - 13s 83ms/step - loss: 0.3213 - accuracy: 0.8673 - val_loss: 0.3529 - val_accuracy: 0.8542\n",
      "Epoch 4/10\n",
      "157/157 [==============================] - 13s 80ms/step - loss: 0.2705 - accuracy: 0.8921 - val_loss: 0.4088 - val_accuracy: 0.8134\n",
      "Epoch 5/10\n",
      "157/157 [==============================] - 13s 82ms/step - loss: 0.2597 - accuracy: 0.9005 - val_loss: 0.4202 - val_accuracy: 0.8128\n",
      "Epoch 6/10\n",
      "157/157 [==============================] - 13s 85ms/step - loss: 0.2068 - accuracy: 0.9215 - val_loss: 0.5757 - val_accuracy: 0.7744\n",
      "Epoch 7/10\n",
      "157/157 [==============================] - 14s 87ms/step - loss: 0.1590 - accuracy: 0.9430 - val_loss: 0.5310 - val_accuracy: 0.7748\n",
      "Epoch 8/10\n",
      "157/157 [==============================] - 14s 89ms/step - loss: 0.1105 - accuracy: 0.9629 - val_loss: 0.5480 - val_accuracy: 0.7866\n",
      "Epoch 9/10\n",
      "157/157 [==============================] - 13s 86ms/step - loss: 0.0917 - accuracy: 0.9697 - val_loss: 0.7248 - val_accuracy: 0.7284\n",
      "Epoch 10/10\n",
      "157/157 [==============================] - 14s 87ms/step - loss: 0.0771 - accuracy: 0.9732 - val_loss: 0.5869 - val_accuracy: 0.8084\n"
     ]
    },
    {
     "data": {
      "text/plain": [
       "<keras.callbacks.History at 0x1840b917ac0>"
      ]
     },
     "execution_count": 12,
     "metadata": {},
     "output_type": "execute_result"
    }
   ],
   "source": [
    "model_rnn.compile(optimizer='rmsprop', loss='binary_crossentropy', metrics=['accuracy'])\n",
    "model_rnn.fit(x_train, y_train, epochs=10, batch_size=128, validation_split=0.2)"
   ]
  },
  {
   "cell_type": "code",
   "execution_count": 13,
   "id": "3a8a5604",
   "metadata": {},
   "outputs": [],
   "source": [
    "from keras.layers import LSTM\n",
    "\n",
    "model_lstm = Sequential()\n",
    "model_lstm.add(Embedding(max_features, 32))\n",
    "model_lstm.add(LSTM(32))\n",
    "model_lstm.add(Dense(1, activation='sigmoid'))"
   ]
  },
  {
   "cell_type": "code",
   "execution_count": 14,
   "id": "53dc6283",
   "metadata": {},
   "outputs": [
    {
     "name": "stdout",
     "output_type": "stream",
     "text": [
      "Epoch 1/10\n",
      "157/157 [==============================] - 26s 150ms/step - loss: 0.5082 - accuracy: 0.7570 - val_loss: 0.3731 - val_accuracy: 0.8496\n",
      "Epoch 2/10\n",
      "157/157 [==============================] - 24s 152ms/step - loss: 0.3148 - accuracy: 0.8733 - val_loss: 0.3376 - val_accuracy: 0.8552\n",
      "Epoch 3/10\n",
      "157/157 [==============================] - 23s 148ms/step - loss: 0.2668 - accuracy: 0.8965 - val_loss: 0.3032 - val_accuracy: 0.8734\n",
      "Epoch 4/10\n",
      "157/157 [==============================] - 24s 150ms/step - loss: 0.2352 - accuracy: 0.9105 - val_loss: 0.2910 - val_accuracy: 0.8810\n",
      "Epoch 5/10\n",
      "157/157 [==============================] - 23s 150ms/step - loss: 0.2161 - accuracy: 0.9187 - val_loss: 0.4137 - val_accuracy: 0.8508\n",
      "Epoch 6/10\n",
      "157/157 [==============================] - 24s 153ms/step - loss: 0.2023 - accuracy: 0.9229 - val_loss: 0.3251 - val_accuracy: 0.8684\n",
      "Epoch 7/10\n",
      "157/157 [==============================] - 24s 156ms/step - loss: 0.1906 - accuracy: 0.9298 - val_loss: 0.3199 - val_accuracy: 0.8784\n",
      "Epoch 8/10\n",
      "157/157 [==============================] - 25s 160ms/step - loss: 0.1824 - accuracy: 0.9309 - val_loss: 0.4616 - val_accuracy: 0.8660\n",
      "Epoch 9/10\n",
      "157/157 [==============================] - 25s 159ms/step - loss: 0.1720 - accuracy: 0.9360 - val_loss: 0.4808 - val_accuracy: 0.8582\n",
      "Epoch 10/10\n",
      "157/157 [==============================] - 25s 161ms/step - loss: 0.1659 - accuracy: 0.9394 - val_loss: 0.3518 - val_accuracy: 0.8796\n"
     ]
    },
    {
     "data": {
      "text/plain": [
       "<keras.callbacks.History at 0x1840b6674f0>"
      ]
     },
     "execution_count": 14,
     "metadata": {},
     "output_type": "execute_result"
    }
   ],
   "source": [
    "model_lstm.compile(optimizer='rmsprop', loss='binary_crossentropy', metrics=['accuracy'])\n",
    "model_lstm.fit(x_train, y_train, epochs=10, batch_size=128, validation_split=0.2)"
   ]
  },
  {
   "cell_type": "code",
   "execution_count": 15,
   "id": "9793bda0",
   "metadata": {},
   "outputs": [],
   "source": [
    "from keras.layers import Bidirectional\n",
    "\n",
    "model_bidirectional = Sequential()\n",
    "model_bidirectional.add(Embedding(max_features, 32))\n",
    "model_bidirectional.add(Bidirectional(LSTM(32)))  \n",
    "model_bidirectional.add(Dense(1, activation='sigmoid'))"
   ]
  },
  {
   "cell_type": "code",
   "execution_count": 16,
   "id": "20ffbeb1",
   "metadata": {},
   "outputs": [
    {
     "name": "stdout",
     "output_type": "stream",
     "text": [
      "Epoch 1/10\n",
      "157/157 [==============================] - 43s 248ms/step - loss: 0.5334 - accuracy: 0.7430 - val_loss: 0.3648 - val_accuracy: 0.8520\n",
      "Epoch 2/10\n",
      "157/157 [==============================] - 38s 242ms/step - loss: 0.3277 - accuracy: 0.8695 - val_loss: 0.4099 - val_accuracy: 0.8392\n",
      "Epoch 3/10\n",
      "157/157 [==============================] - 39s 249ms/step - loss: 0.2686 - accuracy: 0.8964 - val_loss: 0.3208 - val_accuracy: 0.8702\n",
      "Epoch 4/10\n",
      "157/157 [==============================] - 41s 260ms/step - loss: 0.2369 - accuracy: 0.9093 - val_loss: 0.3743 - val_accuracy: 0.8486\n",
      "Epoch 5/10\n",
      "157/157 [==============================] - 41s 261ms/step - loss: 0.2180 - accuracy: 0.9182 - val_loss: 0.3713 - val_accuracy: 0.8416\n",
      "Epoch 6/10\n",
      "157/157 [==============================] - 42s 269ms/step - loss: 0.2043 - accuracy: 0.9232 - val_loss: 0.3295 - val_accuracy: 0.8732\n",
      "Epoch 7/10\n",
      "157/157 [==============================] - 42s 267ms/step - loss: 0.1883 - accuracy: 0.9302 - val_loss: 0.3110 - val_accuracy: 0.8688\n",
      "Epoch 8/10\n",
      "157/157 [==============================] - 42s 269ms/step - loss: 0.1825 - accuracy: 0.9336 - val_loss: 0.3029 - val_accuracy: 0.8826\n",
      "Epoch 9/10\n",
      "157/157 [==============================] - 42s 268ms/step - loss: 0.1699 - accuracy: 0.9367 - val_loss: 0.3567 - val_accuracy: 0.8672\n",
      "Epoch 10/10\n",
      "157/157 [==============================] - 42s 269ms/step - loss: 0.1687 - accuracy: 0.9380 - val_loss: 0.3171 - val_accuracy: 0.8776\n"
     ]
    },
    {
     "data": {
      "text/plain": [
       "<keras.callbacks.History at 0x18401968fa0>"
      ]
     },
     "execution_count": 16,
     "metadata": {},
     "output_type": "execute_result"
    }
   ],
   "source": [
    "model_bidirectional.compile(optimizer='rmsprop', loss='binary_crossentropy', metrics=['accuracy'])\n",
    "model_bidirectional.fit(x_train, y_train, epochs=10, batch_size=128, validation_split=0.2)"
   ]
  },
  {
   "cell_type": "code",
   "execution_count": 17,
   "id": "244e1feb",
   "metadata": {},
   "outputs": [],
   "source": [
    "from keras.layers import GRU\n",
    "\n",
    "model_deep = Sequential()\n",
    "model_deep.add(Embedding(max_features, 32))\n",
    "model_deep.add(GRU(32, return_sequences=True))  \n",
    "model_deep.add(GRU(32)) \n",
    "model_deep.add(Dense(1, activation='sigmoid'))"
   ]
  },
  {
   "cell_type": "code",
   "execution_count": 18,
   "id": "644f47ee",
   "metadata": {},
   "outputs": [
    {
     "name": "stdout",
     "output_type": "stream",
     "text": [
      "Epoch 1/10\n",
      "157/157 [==============================] - 54s 317ms/step - loss: 0.5157 - accuracy: 0.7335 - val_loss: 0.3528 - val_accuracy: 0.8462\n",
      "Epoch 2/10\n",
      "157/157 [==============================] - 50s 318ms/step - loss: 0.3285 - accuracy: 0.8616 - val_loss: 0.6458 - val_accuracy: 0.7076\n",
      "Epoch 3/10\n",
      "157/157 [==============================] - 57s 363ms/step - loss: 0.2835 - accuracy: 0.8863 - val_loss: 0.4019 - val_accuracy: 0.8572\n",
      "Epoch 4/10\n",
      "157/157 [==============================] - 57s 365ms/step - loss: 0.2510 - accuracy: 0.9003 - val_loss: 0.3357 - val_accuracy: 0.8562\n",
      "Epoch 5/10\n",
      "157/157 [==============================] - 54s 346ms/step - loss: 0.2289 - accuracy: 0.9100 - val_loss: 0.2885 - val_accuracy: 0.8844\n",
      "Epoch 6/10\n",
      "157/157 [==============================] - 57s 363ms/step - loss: 0.2176 - accuracy: 0.9162 - val_loss: 0.3505 - val_accuracy: 0.8644\n",
      "Epoch 7/10\n",
      "157/157 [==============================] - 54s 342ms/step - loss: 0.1998 - accuracy: 0.9246 - val_loss: 0.3072 - val_accuracy: 0.8804\n",
      "Epoch 8/10\n",
      "157/157 [==============================] - 54s 346ms/step - loss: 0.1891 - accuracy: 0.9288 - val_loss: 0.3154 - val_accuracy: 0.8648\n",
      "Epoch 9/10\n",
      "157/157 [==============================] - 54s 346ms/step - loss: 0.1771 - accuracy: 0.9349 - val_loss: 0.5428 - val_accuracy: 0.7990\n",
      "Epoch 10/10\n",
      "157/157 [==============================] - 56s 354ms/step - loss: 0.1669 - accuracy: 0.9379 - val_loss: 0.3142 - val_accuracy: 0.8830\n"
     ]
    },
    {
     "data": {
      "text/plain": [
       "<keras.callbacks.History at 0x1841263c9a0>"
      ]
     },
     "execution_count": 18,
     "metadata": {},
     "output_type": "execute_result"
    }
   ],
   "source": [
    "model_deep.compile(optimizer='rmsprop', loss='binary_crossentropy', metrics=['accuracy'])\n",
    "model_deep.fit(x_train, y_train, epochs=10, batch_size=128, validation_split=0.2)"
   ]
  },
  {
   "cell_type": "code",
   "execution_count": 19,
   "id": "2049903d",
   "metadata": {},
   "outputs": [
    {
     "name": "stdout",
     "output_type": "stream",
     "text": [
      "782/782 [==============================] - 12s 15ms/step - loss: 0.5739 - accuracy: 0.8072\n",
      "RNN Accuracy: 0.8071600198745728\n",
      "782/782 [==============================] - 19s 24ms/step - loss: 0.3848 - accuracy: 0.8671\n",
      "LSTM Accuracy: 0.8671200275421143\n",
      "782/782 [==============================] - 30s 39ms/step - loss: 0.3347 - accuracy: 0.8732\n",
      "Bidirectional Accuracy: 0.8731600046157837\n",
      "782/782 [==============================] - 44s 56ms/step - loss: 0.3356 - accuracy: 0.8750\n",
      "Deep RNN Accuracy: 0.8750399947166443\n"
     ]
    }
   ],
   "source": [
    "loss, accuracy = model_rnn.evaluate(x_test, y_test)\n",
    "print(\"RNN Accuracy:\", accuracy)\n",
    "\n",
    "loss, accuracy = model_lstm.evaluate(x_test, y_test)\n",
    "print(\"LSTM Accuracy:\", accuracy)\n",
    "\n",
    "loss, accuracy = model_bidirectional.evaluate(x_test, y_test)\n",
    "print(\"Bidirectional Accuracy:\", accuracy)\n",
    "\n",
    "loss, accuracy = model_deep.evaluate(x_test, y_test)\n",
    "print(\"Deep RNN Accuracy:\", accuracy)"
   ]
  },
  {
   "cell_type": "markdown",
   "id": "f67340dc",
   "metadata": {},
   "source": [
    "Заголом якщо підібрати параметри і надати більше епох для навчання, точність кожної мережі можна підвищити, але за однакових умов маємо наступні результати:\n",
    "\n",
    "Проста рекурентна нейронна мережа (RNN) показала точність на рівні 80.72%. Вона є найпростішою моделлю серед усіх розглянутих, але вона може мати проблеми з урахуванням довгострокових залежностей у тексті. \n",
    "\n",
    "Модель з використанням LSTM шарів показала кращу точність, досягнувши 86.71%. LSTM має додаткові механізми для збереження та використання довгострокової пам'яті, що робить його ефективним у вирішенні завдань, пов'язаних з послідовностями. \n",
    "\n",
    "Bidirectional показала ще кращі результати з точністю 87.32%. Ця модель використовує інформацію з обох напрямків послідовності, що дозволяє краще ураховувати контекст і отримувати більш точні прогнози. \n",
    "\n",
    "Deep RNN також показала високу точність 87.50%. Використання глибини у моделі може допомогти краще узагальнити і засвоїти складні залежності у тексті. \n",
    "\n",
    "Загалом, LSTM, двостороння рекурентна нейронна мережа та глибока рекурентна нейронна мережа продемонстрували кращу точність у порівнянні з простою RNN."
   ]
  }
 ],
 "metadata": {
  "kernelspec": {
   "display_name": "Python 3 (ipykernel)",
   "language": "python",
   "name": "python3"
  },
  "language_info": {
   "codemirror_mode": {
    "name": "ipython",
    "version": 3
   },
   "file_extension": ".py",
   "mimetype": "text/x-python",
   "name": "python",
   "nbconvert_exporter": "python",
   "pygments_lexer": "ipython3",
   "version": "3.10.9"
  }
 },
 "nbformat": 4,
 "nbformat_minor": 5
}
